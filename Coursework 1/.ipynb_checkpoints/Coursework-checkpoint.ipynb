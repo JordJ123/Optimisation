{
 "cells": [
  {
   "cell_type": "code",
   "execution_count": 1,
   "id": "196a5e57-4b7e-4262-abc6-0b223a0fe93b",
   "metadata": {},
   "outputs": [],
   "source": [
    "import math\n",
    "import matplotlib.pyplot as pyplot\n",
    "import numpy"
   ]
  },
  {
   "cell_type": "markdown",
   "id": "fe4c948c-3b19-4f7c-b920-11c088ae955a",
   "metadata": {},
   "source": [
    "# Question 1"
   ]
  },
  {
   "cell_type": "code",
   "execution_count": 2,
   "id": "e21bbac4-ba07-4f15-b7e1-35aca15dc888",
   "metadata": {},
   "outputs": [],
   "source": [
    "def f(x):\n",
    "    first = 1.10471 * (x[0]**2) * x[1]\n",
    "    second = (0.04811*x[2]*x[3]) * (14.0 + x[1])\n",
    "    return first + second    "
   ]
  },
  {
   "cell_type": "code",
   "execution_count": 3,
   "id": "9acf3450-b0c4-4604-886c-1c5dbf1320f9",
   "metadata": {},
   "outputs": [],
   "source": [
    "def g1(x):\n",
    "    return 13600 - t(x)\n",
    "\n",
    "def t(x):\n",
    "    first = (t1(x)**2) + (t2(x)**2)\n",
    "    second = x[1] * t1(x) * t2(x)\n",
    "    third = numpy.sqrt(0.25 \n",
    "        * ((x[1]**2) + ((x[0] + x[2])**2)))\n",
    "    return numpy.sqrt(first + (second/third))\n",
    "                          \n",
    "def t1(x):\n",
    "    second = numpy.sqrt(2) * x[0] * x[1]\n",
    "    return 6000 / second\n",
    "\n",
    "def t2(x):\n",
    "    first = 6000 * (14 + (0.5*x[1]))\n",
    "    second = numpy.sqrt(0.25 \n",
    "        * ((x[1]**2) + ((x[0] + x[2])**2)))\n",
    "    fourth = ((x[1]**2)/12) + (0.25\n",
    "        * ((x[0] + x[2])**2))\n",
    "    third = 2 * (0.707 * x[0] * x[1] * fourth)\n",
    "    return (first * second) / third"
   ]
  },
  {
   "cell_type": "code",
   "execution_count": 4,
   "id": "eb38b2a0-85c6-4ae8-9196-01fabbeabd91",
   "metadata": {},
   "outputs": [],
   "source": [
    "def g2(x):\n",
    "    return 30000 - o(x)\n",
    "    \n",
    "def o(x):\n",
    "    return 504000 / ((x[2]**2) * x[3])"
   ]
  },
  {
   "cell_type": "code",
   "execution_count": 5,
   "id": "d1986600-ed29-4e4c-ac2d-bb042bbbb735",
   "metadata": {},
   "outputs": [],
   "source": [
    "def g3(x):\n",
    "    return x[3] - x[0]"
   ]
  },
  {
   "cell_type": "code",
   "execution_count": 6,
   "id": "5c79d175-c50f-4ce6-b4af-2ec6a14c81a5",
   "metadata": {},
   "outputs": [],
   "source": [
    "def g4(x):\n",
    "    return p(x) - 6000\n",
    "\n",
    "def p(x):\n",
    "    middle = 1 - (0.0282346 * x[2])\n",
    "    return 64746.022 * middle * x[2] * (x[3]**3)"
   ]
  },
  {
   "cell_type": "code",
   "execution_count": 7,
   "id": "0c0510d8-6593-4f21-a121-c5d889d05daa",
   "metadata": {},
   "outputs": [
    {
     "name": "stdout",
     "output_type": "stream",
     "text": [
      "Objective funtion ouput:  32.6024179859\n",
      "First constraint function output:  5308.848564674312\n",
      "Second contraint function output:  26736.764990548952\n",
      "Third constraint function output:  6.82\n",
      "Fourth constraint function output:  122317448.61430933\n"
     ]
    }
   ],
   "source": [
    "x = numpy.array([1.05, 3.15, 4.43, 7.87])\n",
    "print(\"Objective funtion ouput: \", f(x))\n",
    "print(\"First constraint function output: \", g1(x))\n",
    "print(\"Second contraint function output: \", g2(x))\n",
    "print(\"Third constraint function output: \", g3(x))\n",
    "print(\"Fourth constraint function output: \", g4(x))"
   ]
  },
  {
   "cell_type": "markdown",
   "id": "0949e613-3991-4909-898c-72600a7459e2",
   "metadata": {},
   "source": [
    "# Question 2"
   ]
  },
  {
   "cell_type": "code",
   "execution_count": 61,
   "id": "9d729fdd-ac47-427c-85bf-d6229e35913c",
   "metadata": {},
   "outputs": [],
   "source": [
    "def randomValues(size, seed=-1):\n",
    "    numpy.random.seed()\n",
    "    r = []\n",
    "    seedM = 1\n",
    "    for i in range(0,size):\n",
    "        randomise = True\n",
    "        nr = []\n",
    "        while(randomise):\n",
    "            nr = []\n",
    "            if (seed != -1):\n",
    "                numpy.random.seed(seed * seedM)\n",
    "                seedM = seedM + 1\n",
    "            nr.append(numpy.random.uniform(low=0.125, high=5))\n",
    "            nr.append(numpy.random.uniform(low=0.125, high=5))\n",
    "            nr.append(numpy.random.uniform(low=0.1, high=10))\n",
    "            nr.append(numpy.random.uniform(low=0.1, high=10))\n",
    "            randomise = not constraints(nr)\n",
    "        r.append(nr)\n",
    "    return r\n",
    "\n",
    "def constraints(values):\n",
    "    if (values[0] < 0.125) | (values[0] > 5):\n",
    "        return False\n",
    "    if (values[1] < 0.125) | (values[1] > 5):\n",
    "        return False\n",
    "    if (values[2] < 0.1) | (values[2] > 10):\n",
    "        return False\n",
    "    if (values[3] < 0.1) | (values[3] > 10):\n",
    "        return False\n",
    "    if g1(values) < 0:\n",
    "        return False\n",
    "    if g2(values) < 0:\n",
    "        return False\n",
    "    if g3(values) < 0:\n",
    "        return False\n",
    "    if g4(values) < 0:\n",
    "        return False\n",
    "    return True"
   ]
  },
  {
   "cell_type": "code",
   "execution_count": 90,
   "id": "58b02481-2ae7-4dca-8db9-17c0258c27aa",
   "metadata": {},
   "outputs": [
    {
     "name": "stdout",
     "output_type": "stream",
     "text": [
      "13.335561059204604\n",
      "34.20329588141187\n",
      "13.335561059204604\n",
      "23.47626719183519\n"
     ]
    }
   ],
   "source": [
    "def rs(size, seed=-1):\n",
    "    r = randomValues(size, seed)\n",
    "    optimum = 10000000\n",
    "    for i in range(0,len(r)):\n",
    "        temp = f(r[i])\n",
    "        if (temp < optimum):\n",
    "            optimum = temp\n",
    "    return optimum\n",
    "\n",
    "print(rs(10, 3))\n",
    "print(rs(10, 7))\n",
    "print(rs(10, 3))\n",
    "print(rs(10))"
   ]
  },
  {
   "cell_type": "markdown",
   "id": "01f8b4de-591e-43d3-a845-be6a68c62e13",
   "metadata": {},
   "source": [
    "# Question 3"
   ]
  },
  {
   "cell_type": "code",
   "execution_count": 77,
   "id": "35c38dfe-39e7-463b-9dcb-2d8d3f93348e",
   "metadata": {},
   "outputs": [
    {
     "name": "stdout",
     "output_type": "stream",
     "text": [
      "[array([0.77137652, 2.44906507, 5.08776533, 0.89297915]), 5.205216641169818]\n"
     ]
    }
   ],
   "source": [
    "def sa(size):\n",
    "\n",
    "    #Inital Values\n",
    "    xBest = randomValues(1)[0]\n",
    "    yBest = f(xBest)\n",
    "    xC = xBest\n",
    "    yC = yBest\n",
    "\n",
    "    #Loop\n",
    "    for k in range(1, size + 1):\n",
    "        x = T(xC)\n",
    "        y = f(x)\n",
    "        dy = y - yC\n",
    "        ri = numpy.random.uniform(low=0, high=1)\n",
    "        minI = math.exp((0-dy) / (1/k))\n",
    "        if ((dy <= 0) | (ri < min(minI, 1))):\n",
    "            xC = x\n",
    "            yC = y\n",
    "        if (y < yBest):\n",
    "            xBest = x\n",
    "            yBest = y\n",
    "    return [xBest, yBest]\n",
    "\n",
    "def T(xC):\n",
    "    r1 = (5 - 0.125) * 0.1\n",
    "    r2 = (10 - 0.1) * 0.1\n",
    "    cov = numpy.diag([r1, r1, r2, r2])\n",
    "    randomise = True\n",
    "    while(randomise):\n",
    "        multi = numpy.random.multivariate_normal(xC, cov)\n",
    "        randomise = not constraints(multi)\n",
    "    return multi  \n",
    "\n",
    "print(sa(100))"
   ]
  },
  {
   "cell_type": "markdown",
   "id": "e0f39f7d-4e45-418b-a89c-2c2545ff6d49",
   "metadata": {},
   "source": [
    "# Question 4"
   ]
  },
  {
   "cell_type": "code",
   "execution_count": 87,
   "id": "20e3f2b9-3def-46b9-a6e5-5861d3290d7a",
   "metadata": {},
   "outputs": [
    {
     "data": {
      "image/png": "[encoded data removed]",
      "text/plain": [
       "<Figure size 640x480 with 1 Axes>"
      ]
     },
     "metadata": {},
     "output_type": "display_data"
    }
   ],
   "source": [
    "rsResults = []\n",
    "for i in range(0,21):\n",
    "    rsResults.append(rs(250))\n",
    "pyplot.boxplot(rsResults)\n",
    "pyplot.show()"
   ]
  },
  {
   "cell_type": "code",
   "execution_count": 86,
   "id": "ecea8430-7903-454c-aa40-88171a62446e",
   "metadata": {},
   "outputs": [
    {
     "data": {
      "image/png": "[encoded data removed]",
      "text/plain": [
       "<Figure size 640x480 with 1 Axes>"
      ]
     },
     "metadata": {},
     "output_type": "display_data"
    }
   ],
   "source": [
    "saResults = []\n",
    "for i in range(0,21):\n",
    "    saResults.append(sa(250)[1])\n",
    "pyplot.boxplot(saResults)\n",
    "pyplot.show()"
   ]
  },
  {
   "cell_type": "code",
   "execution_count": null,
   "id": "33026788-11b7-46b0-98f6-8b0540e094e3",
   "metadata": {},
   "outputs": [],
   "source": [
    "#More smaller values can be found using SA\n",
    "\n",
    "#The range of values is closer together \n",
    "#and around the smaller values\n",
    "\n",
    "#High values for sa are outliers whereas they are mostly \n",
    "#the main range of values for sa\n",
    "\n",
    "#SA is preferred over RS because it is more likely to\n",
    "#find the most minimum value possible"
   ]
  }
 ],
 "metadata": {
  "kernelspec": {
   "display_name": "Python 3 (ipykernel)",
   "language": "python",
   "name": "python3"
  },
  "language_info": {
   "codemirror_mode": {
    "name": "ipython",
    "version": 3
   },
   "file_extension": ".py",
   "mimetype": "text/x-python",
   "name": "python",
   "nbconvert_exporter": "python",
   "pygments_lexer": "ipython3",
   "version": "3.8.10"
  }
 },
 "nbformat": 4,
 "nbformat_minor": 5
}
