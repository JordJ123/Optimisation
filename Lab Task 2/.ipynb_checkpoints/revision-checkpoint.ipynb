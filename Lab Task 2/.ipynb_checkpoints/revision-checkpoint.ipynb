{
 "cells": [
  {
   "cell_type": "code",
   "execution_count": 29,
   "id": "cb3f496f-6a15-4cb3-a7bc-55517663df48",
   "metadata": {},
   "outputs": [],
   "source": [
    "import matplotlib.pyplot as pyplot\n",
    "import numpy"
   ]
  },
  {
   "cell_type": "markdown",
   "id": "66821338-a0f1-469f-910e-0a0463597e59",
   "metadata": {},
   "source": [
    "# Task 2"
   ]
  },
  {
   "cell_type": "code",
   "execution_count": 6,
   "id": "4983ecef-9593-4a1f-a999-8a763d4f7264",
   "metadata": {},
   "outputs": [],
   "source": [
    "def squaredError(O, X, Y):\n",
    "    value = 0\n",
    "    for i in range(0,len(X)):\n",
    "        equation = Y[i] - (O[0] * X[i]) - O[1]\n",
    "        value = value + ((equation)**2)\n",
    "    return value"
   ]
  },
  {
   "cell_type": "code",
   "execution_count": 7,
   "id": "cad34042-e46a-4734-a4e6-454ebe4670f9",
   "metadata": {},
   "outputs": [
    {
     "name": "stdout",
     "output_type": "stream",
     "text": [
      "2.4000196\n"
     ]
    }
   ],
   "source": [
    "O = [0.6014, 2.1958]\n",
    "X = [1,2,3,4,5]\n",
    "Y = [2,4,5,4,5]\n",
    "print(squaredError(O, X, Y))"
   ]
  },
  {
   "cell_type": "markdown",
   "id": "fbadeaa8-527d-4a89-a679-77e87297254e",
   "metadata": {},
   "source": [
    "# Task 3"
   ]
  },
  {
   "cell_type": "code",
   "execution_count": 20,
   "id": "e84ac39e-436f-4ba0-80e0-b25e350a9e54",
   "metadata": {},
   "outputs": [],
   "source": [
    "def gridSearch(nm,nc):\n",
    "    X = [1,2,3,4,5]\n",
    "    Y = [2,4,5,4,5]\n",
    "    current = 1000000\n",
    "    cm = -1\n",
    "    cc = -1\n",
    "    for i in range(0,nm):\n",
    "        m = 0 + (i * (1/(nm-1)))\n",
    "        for j in range(0,nc):\n",
    "            c = 2 + (j * (1/(nc-1)))\n",
    "            value = squaredError([m,c], X, Y)\n",
    "            if (value < current):\n",
    "                current = value\n",
    "                cm = m\n",
    "                cc = c\n",
    "    return [(cm,cc), current]"
   ]
  },
  {
   "cell_type": "code",
   "execution_count": 25,
   "id": "851248bf-a459-4270-986e-682018a5ed3c",
   "metadata": {},
   "outputs": [],
   "source": [
    "def randomSearch(n):\n",
    "    X = [1,2,3,4,5]\n",
    "    Y = [2,4,5,4,5]\n",
    "    current = 1000000\n",
    "    cm = -1\n",
    "    cc = -1\n",
    "    for i in range(0,n):\n",
    "        m = numpy.random.uniform(low=0, high=1)\n",
    "        c = numpy.random.uniform(low=2, high=3)\n",
    "        value = squaredError([m,c], X, Y)\n",
    "        if (value < current):\n",
    "            current = value\n",
    "            cm = m\n",
    "            cc = c\n",
    "    return [(cm,cc), current]"
   ]
  },
  {
   "cell_type": "code",
   "execution_count": 26,
   "id": "ff0a91b2-c157-475f-a06a-bd4d479fb56d",
   "metadata": {},
   "outputs": [
    {
     "name": "stdout",
     "output_type": "stream",
     "text": [
      "[(0.5555555555555556, 2.3333333333333335), 2.4197530864197523]\n",
      "[(0.6022564803362926, 2.3433640266659825), 2.5127512076154725]\n"
     ]
    }
   ],
   "source": [
    "print(gridSearch(10, 10))\n",
    "print(randomSearch(10))"
   ]
  },
  {
   "cell_type": "code",
   "execution_count": 31,
   "id": "82e6e85b-0292-46bc-86d7-66347612cb2b",
   "metadata": {},
   "outputs": [
    {
     "ename": "TypeError",
     "evalue": "gridSearch() missing 1 required positional argument: 'nc'",
     "output_type": "error",
     "traceback": [
      "\u001b[1;31m---------------------------------------------------------------------------\u001b[0m",
      "\u001b[1;31mTypeError\u001b[0m                                 Traceback (most recent call last)",
      "Cell \u001b[1;32mIn [31], line 3\u001b[0m\n\u001b[0;32m      1\u001b[0m gsResults \u001b[38;5;241m=\u001b[39m []\n\u001b[0;32m      2\u001b[0m \u001b[38;5;28;01mfor\u001b[39;00m i \u001b[38;5;129;01min\u001b[39;00m \u001b[38;5;28mrange\u001b[39m(\u001b[38;5;241m0\u001b[39m,\u001b[38;5;241m21\u001b[39m):\n\u001b[1;32m----> 3\u001b[0m     gsResults\u001b[38;5;241m.\u001b[39mappend(\u001b[43mgridSearch\u001b[49m\u001b[43m(\u001b[49m\u001b[38;5;241;43m10000\u001b[39;49m\u001b[43m)\u001b[49m[\u001b[38;5;241m1\u001b[39m])\n\u001b[0;32m      4\u001b[0m rsResults \u001b[38;5;241m=\u001b[39m []\n\u001b[0;32m      5\u001b[0m \u001b[38;5;28;01mfor\u001b[39;00m i \u001b[38;5;129;01min\u001b[39;00m \u001b[38;5;28mrange\u001b[39m(\u001b[38;5;241m0\u001b[39m,\u001b[38;5;241m21\u001b[39m):\n",
      "\u001b[1;31mTypeError\u001b[0m: gridSearch() missing 1 required positional argument: 'nc'"
     ]
    }
   ],
   "source": [
    "gsResults = []\n",
    "for i in range(0,10):\n",
    "    gsResults.append(gridSearch(10,10)[1])\n",
    "rsResults = []\n",
    "for i in range(0,10):\n",
    "    rsResults.append(randomSearch(10)[1])\n",
    "pyplot.boxplot([gsResults,rsResults], labels=[\"GS\",\"RS\"])\n",
    "pyplot.show()"
   ]
  },
  {
   "cell_type": "code",
   "execution_count": null,
   "id": "12e34039-7211-486d-b769-ea71988e3bd6",
   "metadata": {},
   "outputs": [],
   "source": []
  }
 ],
 "metadata": {
  "kernelspec": {
   "display_name": "Python 3 (ipykernel)",
   "language": "python",
   "name": "python3"
  },
  "language_info": {
   "codemirror_mode": {
    "name": "ipython",
    "version": 3
   },
   "file_extension": ".py",
   "mimetype": "text/x-python",
   "name": "python",
   "nbconvert_exporter": "python",
   "pygments_lexer": "ipython3",
   "version": "3.8.10"
  }
 },
 "nbformat": 4,
 "nbformat_minor": 5
}
