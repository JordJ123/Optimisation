{
 "cells": [
  {
   "cell_type": "markdown",
   "metadata": {},
   "source": [
    "Here is a link to a tutorial on [Jupyter Notebook](https://medium.com/edureka/jupyter-notebook-cheat-sheet-88f60d1aca7)."
   ]
  },
  {
   "cell_type": "markdown",
   "metadata": {},
   "source": [
    "## Task 2.1.1"
   ]
  },
  {
   "cell_type": "code",
   "execution_count": 1,
   "metadata": {
    "ExecuteTime": {
     "end_time": "2020-10-16T14:31:09.253050Z",
     "start_time": "2020-10-16T14:31:09.245102Z"
    }
   },
   "outputs": [],
   "source": [
    "def is_even(x):\n",
    "    assert isinstance(x, int), \"Please enter an integer.\"\n",
    "    # a modulus (%) tells us what the remainder is\n",
    "    if x%2 != 0: # the remainder is not equal to zero: odd number\n",
    "        return False\n",
    "    else:\n",
    "        return True"
   ]
  },
  {
   "cell_type": "code",
   "execution_count": 2,
   "metadata": {
    "ExecuteTime": {
     "end_time": "2020-10-16T14:31:09.420222Z",
     "start_time": "2020-10-16T14:31:09.411865Z"
    }
   },
   "outputs": [],
   "source": [
    "# test\n",
    "print(\"Is 5 an even number? \" + str(is_even(5)))\n",
    "print(\"Is 122 an even number? \" + str(is_even(122)))"
   ]
  },
  {
   "cell_type": "code",
   "execution_count": 3,
   "metadata": {},
   "outputs": [],
   "source": [
    "# deliberately enter a float to test assertion error\n",
    "try:\n",
    "    print(\"Is 5.1 an even number? \" + str(is_even(5.1)))\n",
    "except Exception as error:\n",
    "    print(\"An exception has occurred. The excpetion message is given below. \")\n",
    "    print(error)"
   ]
  },
  {
   "cell_type": "markdown",
   "metadata": {},
   "source": [
    "## Task 2.1.2"
   ]
  },
  {
   "cell_type": "code",
   "execution_count": 2,
   "metadata": {
    "ExecuteTime": {
     "end_time": "2020-10-16T14:31:42.122054Z",
     "start_time": "2020-10-16T14:31:42.109969Z"
    }
   },
   "outputs": [],
   "source": [
    "# import the numpy module, and rename it as np wihtin the scope of this notebook\n",
    "import numpy as np\n",
    "\n",
    "def overall_percentage(marks, percentages):\n",
    "    # conditions to check for valid entry \n",
    "    if np.sum(percentages) > 100 \\\n",
    "        or np.any(percentages < 0)\\\n",
    "        or np.any(marks) > 100\\\n",
    "        or np.any(marks) < 0 :\n",
    "        # first condition is that the sum is greater than 100\n",
    "        # second condition is that x and y are positive\n",
    "        # third and fourth conditions ensures that the marks are between 0 and 100\n",
    "        # you could use assertion checks (like the solution 2.1.1) here instead\n",
    "        raise Exception(\"Invalid entry for x or y. \\\n",
    "                        Please check your input.\")\n",
    "    else:\n",
    "        # look up what dot product do in Wikipedia\n",
    "        # such built-in functions make numpy a very powerful library\n",
    "        return np.dot(marks, percentages/100)\n",
    "        "
   ]
  },
  {
   "cell_type": "code",
   "execution_count": 4,
   "metadata": {
    "ExecuteTime": {
     "end_time": "2020-10-16T14:31:43.482109Z",
     "start_time": "2020-10-16T14:31:43.478410Z"
    }
   },
   "outputs": [
    {
     "name": "stdout",
     "output_type": "stream",
     "text": [
      "The overall percetage for this student is: 28.0\n"
     ]
    }
   ],
   "source": [
    "# test\n",
    "marks = np.array([35, 21])\n",
    "percs =  np.array([65, 35])\n",
    "print(\"The overall percetage for this student is: \" + \\\n",
    "          str(overall_percentage(marks, percs)))"
   ]
  },
  {
   "cell_type": "markdown",
   "metadata": {},
   "source": [
    "## Task 2.1.3"
   ]
  },
  {
   "cell_type": "code",
   "execution_count": 6,
   "metadata": {
    "ExecuteTime": {
     "end_time": "2020-10-07T07:46:19.915404Z",
     "start_time": "2020-10-07T07:46:19.889702Z"
    }
   },
   "outputs": [],
   "source": [
    "an_array = np.array([1, 19, 2, 3, 4, 100])\n",
    "\n",
    "def find_max(array):\n",
    "    l = len(array) # length of the array\n",
    "    max_candidate = array[0] # set the first element to the be best\n",
    "    for i in range(1, l, 1):\n",
    "        if array[i] > max_candidate:\n",
    "            max_candidate = array[i]\n",
    "    return max_candidate\n",
    "    "
   ]
  },
  {
   "cell_type": "code",
   "execution_count": 7,
   "metadata": {
    "ExecuteTime": {
     "end_time": "2020-10-07T07:46:19.950471Z",
     "start_time": "2020-10-07T07:46:19.920127Z"
    }
   },
   "outputs": [],
   "source": [
    "# test\n",
    "print(find_max(an_array))"
   ]
  },
  {
   "cell_type": "code",
   "execution_count": 8,
   "metadata": {
    "ExecuteTime": {
     "end_time": "2020-10-07T07:46:19.967948Z",
     "start_time": "2020-10-07T07:46:19.956869Z"
    }
   },
   "outputs": [],
   "source": [
    "# there is a numpy library function that allows you to do this directly\n",
    "print(np.max(an_array))\n",
    "# If you wanted to know the index of the maximum value, \n",
    "# then you could do that using the following code. \n",
    "print(np.argmax(an_array))"
   ]
  },
  {
   "cell_type": "markdown",
   "metadata": {},
   "source": [
    "## Task 2.1.4\n",
    "\n",
    "See this link for more details: [numpy.random.random](https://docs.scipy.org/doc/numpy-1.15.0/reference/generated/numpy.random.random.html)"
   ]
  },
  {
   "cell_type": "code",
   "execution_count": 9,
   "metadata": {
    "ExecuteTime": {
     "end_time": "2020-10-07T07:46:19.995329Z",
     "start_time": "2020-10-07T07:46:19.970399Z"
    }
   },
   "outputs": [],
   "source": [
    "def random_integers(nrows, ncols, lower_bound, upper_bound):\n",
    "    return np.rint(np.random.random(size=(nrows,ncols))*(upper_bound - lower_bound) + lower_bound).astype(int)     "
   ]
  },
  {
   "cell_type": "code",
   "execution_count": 10,
   "metadata": {
    "ExecuteTime": {
     "end_time": "2020-10-07T07:46:20.026775Z",
     "start_time": "2020-10-07T07:46:19.997421Z"
    }
   },
   "outputs": [],
   "source": [
    "# test\n",
    "nrows = 5\n",
    "ncols = 2\n",
    "lower_bounds = np.zeros(ncols)\n",
    "upper_bounds = np.ones(ncols)*5\n",
    "random_integers(nrows, ncols, lower_bounds, upper_bounds)"
   ]
  },
  {
   "cell_type": "code",
   "execution_count": 11,
   "metadata": {},
   "outputs": [
    {
     "data": {
      "text/plain": [
       "array([[1, 0],\n",
       "       [3, 2],\n",
       "       [1, 0],\n",
       "       [0, 1],\n",
       "       [3, 2]])"
      ]
     },
     "execution_count": 11,
     "metadata": {},
     "output_type": "execute_result"
    }
   ],
   "source": [
    "# you can solve the same problem using the foollowig, which I wanted you to find for yourself. \n",
    "np.random.randint(low=lower_bounds, high=upper_bounds, size=(nrows, ncols))"
   ]
  },
  {
   "cell_type": "code",
   "execution_count": 12,
   "metadata": {},
   "outputs": [
    {
     "name": "stdout",
     "output_type": "stream",
     "text": [
      "[[2 1]\n",
      " [4 1]\n",
      " [2 1]\n",
      " [1 3]\n",
      " [1 3]]\n",
      "[[0 2]\n",
      " [1 3]\n",
      " [2 1]\n",
      " [2 3]\n",
      " [0 1]]\n",
      "[[2 1]\n",
      " [4 1]\n",
      " [2 1]\n",
      " [1 3]\n",
      " [1 3]]\n"
     ]
    }
   ],
   "source": [
    "# you can set a seed to remove randomness from random sampling.\n",
    "seed = 12345\n",
    "np.random.seed(seed)\n",
    "print(np.random.randint(low=lower_bounds, high=upper_bounds, size=(nrows, ncols)))\n",
    "print(np.random.randint(low=lower_bounds, high=upper_bounds, size=(nrows, ncols)))\n",
    "np.random.seed(seed)\n",
    "print(np.random.randint(low=lower_bounds, high=upper_bounds, size=(nrows, ncols)))\n",
    "# the first and last arrays shoudl be the same"
   ]
  },
  {
   "cell_type": "markdown",
   "metadata": {},
   "source": [
    "## Task 2.1.5"
   ]
  },
  {
   "cell_type": "code",
   "execution_count": 13,
   "metadata": {
    "ExecuteTime": {
     "end_time": "2020-10-07T07:46:20.049993Z",
     "start_time": "2020-10-07T07:46:20.029143Z"
    }
   },
   "outputs": [],
   "source": [
    "def fib(n):\n",
    "    # below is a slightly more efficient version of Fibonacci series\n",
    "    a, b = 0, 1\n",
    "    for i in range(n):\n",
    "        a, b = b, a+b\n",
    "    return a"
   ]
  },
  {
   "cell_type": "code",
   "execution_count": 14,
   "metadata": {
    "ExecuteTime": {
     "end_time": "2020-10-07T07:46:20.078851Z",
     "start_time": "2020-10-07T07:46:20.051646Z"
    }
   },
   "outputs": [
    {
     "data": {
      "text/plain": [
       "55"
      ]
     },
     "execution_count": 14,
     "metadata": {},
     "output_type": "execute_result"
    }
   ],
   "source": [
    "# Test\n",
    "fib(10)"
   ]
  },
  {
   "cell_type": "markdown",
   "metadata": {},
   "source": [
    "## Simple demosntration of matplotlib"
   ]
  },
  {
   "cell_type": "code",
   "execution_count": 15,
   "metadata": {
    "ExecuteTime": {
     "end_time": "2020-10-07T07:46:20.398352Z",
     "start_time": "2020-10-07T07:46:20.080341Z"
    }
   },
   "outputs": [
    {
     "data": {
      "text/plain": [
       "[<matplotlib.lines.Line2D at 0x7fbec8c35fd0>]"
      ]
     },
     "execution_count": 15,
     "metadata": {},
     "output_type": "execute_result"
    },
    {
     "data": {
      "image/png": "[encoded data removed]",
      "text/plain": [
       "<Figure size 432x288 with 1 Axes>"
      ]
     },
     "metadata": {
      "needs_background": "light"
     },
     "output_type": "display_data"
    }
   ],
   "source": [
    "import matplotlib.pyplot as plt # import pyplot library/module\n",
    "plt.ion() # turn on to plot interactively\n",
    "x = [1, 2, 3, 4, 5]\n",
    "y = [2, 4, 5, 6, 6]\n",
    "plt.plot(x, y)"
   ]
  },
  {
   "cell_type": "code",
   "execution_count": 16,
   "metadata": {
    "ExecuteTime": {
     "end_time": "2020-10-07T07:46:20.629249Z",
     "start_time": "2020-10-07T07:46:20.399950Z"
    }
   },
   "outputs": [
    {
     "data": {
      "text/plain": [
       "Text(0.5, 1.0, 'A simple plot')"
      ]
     },
     "execution_count": 16,
     "metadata": {},
     "output_type": "execute_result"
    },
    {
     "data": {
      "image/png": "[encoded data removed]",
      "text/plain": [
       "<Figure size 432x288 with 1 Axes>"
      ]
     },
     "metadata": {
      "needs_background": "light"
     },
     "output_type": "display_data"
    }
   ],
   "source": [
    "plt.plot(x, y)\n",
    "# add labels\n",
    "plt.xlabel(\"x\")\n",
    "plt.ylabel(\"y\")\n",
    "plt.title(\"A simple plot\")"
   ]
  },
  {
   "cell_type": "markdown",
   "metadata": {},
   "source": [
    "Generating a [boxplot](https://en.wikipedia.org/wiki/Box_plot) is pretty straightforward too. "
   ]
  },
  {
   "cell_type": "code",
   "execution_count": 17,
   "metadata": {
    "ExecuteTime": {
     "end_time": "2020-10-07T07:46:20.794582Z",
     "start_time": "2020-10-07T07:46:20.630895Z"
    }
   },
   "outputs": [
    {
     "data": {
      "text/plain": [
       "{'whiskers': [<matplotlib.lines.Line2D at 0x7fbeb82ddf10>,\n",
       "  <matplotlib.lines.Line2D at 0x7fbeb82ef220>,\n",
       "  <matplotlib.lines.Line2D at 0x7fbeb82fb370>,\n",
       "  <matplotlib.lines.Line2D at 0x7fbeb82fb5e0>],\n",
       " 'caps': [<matplotlib.lines.Line2D at 0x7fbeb82ef5b0>,\n",
       "  <matplotlib.lines.Line2D at 0x7fbeb82ef7c0>,\n",
       "  <matplotlib.lines.Line2D at 0x7fbeb82fb8b0>,\n",
       "  <matplotlib.lines.Line2D at 0x7fbeb82fbb80>],\n",
       " 'boxes': [<matplotlib.lines.Line2D at 0x7fbeb82ddc40>,\n",
       "  <matplotlib.lines.Line2D at 0x7fbeb82fb0a0>],\n",
       " 'medians': [<matplotlib.lines.Line2D at 0x7fbeb82efa90>,\n",
       "  <matplotlib.lines.Line2D at 0x7fbeb82fbe50>],\n",
       " 'fliers': [<matplotlib.lines.Line2D at 0x7fbeb82efd60>,\n",
       "  <matplotlib.lines.Line2D at 0x7fbeb830b160>],\n",
       " 'means': []}"
      ]
     },
     "execution_count": 17,
     "metadata": {},
     "output_type": "execute_result"
    },
    {
     "data": {
      "image/png": "[encoded data removed]",
      "text/plain": [
       "<Figure size 432x288 with 1 Axes>"
      ]
     },
     "metadata": {
      "needs_background": "light"
     },
     "output_type": "display_data"
    }
   ],
   "source": [
    "plt.boxplot([x, y]) # you may need this for your coursework"
   ]
  },
  {
   "cell_type": "markdown",
   "metadata": {},
   "source": [
    "## Task 3.1"
   ]
  },
  {
   "cell_type": "code",
   "execution_count": 18,
   "metadata": {
    "ExecuteTime": {
     "end_time": "2020-10-07T07:46:20.973624Z",
     "start_time": "2020-10-07T07:46:20.796830Z"
    }
   },
   "outputs": [
    {
     "data": {
      "text/plain": [
       "[<matplotlib.lines.Line2D at 0x7fbeb8241070>]"
      ]
     },
     "execution_count": 18,
     "metadata": {},
     "output_type": "execute_result"
    },
    {
     "data": {
      "image/png": "[encoded data removed]",
      "text/plain": [
       "<Figure size 432x288 with 1 Axes>"
      ]
     },
     "metadata": {
      "needs_background": "light"
     },
     "output_type": "display_data"
    }
   ],
   "source": [
    "x = np.arange(100)\n",
    "y = [fib(i) for i in x] # this is known as list comprehension; very useful\n",
    "plt.plot(x ,y)"
   ]
  }
 ],
 "metadata": {
  "kernelspec": {
   "display_name": "Python 3 (ipykernel)",
   "language": "python",
   "name": "python3"
  },
  "language_info": {
   "codemirror_mode": {
    "name": "ipython",
    "version": 3
   },
   "file_extension": ".py",
   "mimetype": "text/x-python",
   "name": "python",
   "nbconvert_exporter": "python",
   "pygments_lexer": "ipython3",
   "version": "3.8.10"
  },
  "vscode": {
   "interpreter": {
    "hash": "e5dda8d942434267642e505232c94ab7256e686b983850044e65a6a97d306ed1"
   }
  }
 },
 "nbformat": 4,
 "nbformat_minor": 4
}
