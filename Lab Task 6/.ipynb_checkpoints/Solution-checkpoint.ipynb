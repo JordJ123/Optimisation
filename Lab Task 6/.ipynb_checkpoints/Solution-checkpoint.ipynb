{
 "cells": [
  {
   "cell_type": "code",
   "execution_count": 1,
   "metadata": {
    "ExecuteTime": {
     "end_time": "2020-11-20T11:27:47.228813Z",
     "start_time": "2020-11-20T11:27:47.010072Z"
    }
   },
   "outputs": [],
   "source": [
    "import matplotlib.pyplot as plt\n",
    "plt.ion()\n",
    "plt.rc('text', usetex=True)\n",
    "plt.rc('font', family='serif')\n",
    "plt.rc('font', size=22)\n",
    "import numpy as np"
   ]
  },
  {
   "cell_type": "code",
   "execution_count": 2,
   "metadata": {
    "ExecuteTime": {
     "end_time": "2020-11-20T11:27:47.233999Z",
     "start_time": "2020-11-20T11:27:47.230533Z"
    }
   },
   "outputs": [],
   "source": [
    "plt.rc('text', usetex=True)\n",
    "plt.rc('font', family='serif')\n",
    "plt.rc('font', size=22)"
   ]
  },
  {
   "cell_type": "code",
   "execution_count": 3,
   "metadata": {
    "ExecuteTime": {
     "end_time": "2020-11-20T11:27:47.257260Z",
     "start_time": "2020-11-20T11:27:47.236070Z"
    }
   },
   "outputs": [],
   "source": [
    "#For repeatability set a seed\n",
    "seed = 123451\n",
    "np.random.seed(seed)"
   ]
  },
  {
   "cell_type": "markdown",
   "metadata": {},
   "source": [
    "## Task 3.1"
   ]
  },
  {
   "cell_type": "code",
   "execution_count": 4,
   "metadata": {
    "ExecuteTime": {
     "end_time": "2020-11-20T11:27:47.273765Z",
     "start_time": "2020-11-20T11:27:47.263164Z"
    }
   },
   "outputs": [],
   "source": [
    "def knapsack(x, weights, values, weight_limit, r, beta):\n",
    "    f = np.dot(x, values)\n",
    "    g = np.dot(x, weights)\n",
    "    penalty = r*np.max([0, g - weight_limit])**beta\n",
    "    return f - penalty"
   ]
  },
  {
   "cell_type": "code",
   "execution_count": 5,
   "metadata": {
    "ExecuteTime": {
     "end_time": "2020-11-20T11:27:47.294690Z",
     "start_time": "2020-11-20T11:27:47.279556Z"
    }
   },
   "outputs": [
    {
     "name": "stdout",
     "output_type": "stream",
     "text": [
      "4\n"
     ]
    }
   ],
   "source": [
    "# test\n",
    "x = np.array([1,0,1])\n",
    "w = np.array([100, 200, 300])\n",
    "v = np.array([1, 2, 3])\n",
    "W = 400\n",
    "r = 20\n",
    "beta = 2\n",
    "print(knapsack(x, w, v, W, r, beta))"
   ]
  },
  {
   "cell_type": "markdown",
   "metadata": {},
   "source": [
    "## Task 3.2"
   ]
  },
  {
   "cell_type": "code",
   "execution_count": 6,
   "metadata": {
    "ExecuteTime": {
     "end_time": "2020-11-20T11:27:47.312941Z",
     "start_time": "2020-11-20T11:27:47.297187Z"
    }
   },
   "outputs": [],
   "source": [
    "def gen_pop(n_rows, n_cols):\n",
    "    return np.random.randint(0, 1+1, size=(n_rows, n_cols))"
   ]
  },
  {
   "cell_type": "code",
   "execution_count": 7,
   "metadata": {
    "ExecuteTime": {
     "end_time": "2020-11-20T11:27:47.337259Z",
     "start_time": "2020-11-20T11:27:47.314422Z"
    }
   },
   "outputs": [
    {
     "name": "stdout",
     "output_type": "stream",
     "text": [
      "[[0 0 1]\n",
      " [0 1 1]\n",
      " [0 1 1]\n",
      " [0 1 0]\n",
      " [0 0 0]]\n"
     ]
    }
   ],
   "source": [
    "# test\n",
    "P = gen_pop(5, 3)\n",
    "print(P)"
   ]
  },
  {
   "cell_type": "markdown",
   "metadata": {},
   "source": [
    "## Task 3.3"
   ]
  },
  {
   "cell_type": "code",
   "execution_count": 8,
   "metadata": {
    "ExecuteTime": {
     "end_time": "2020-11-20T11:27:47.369232Z",
     "start_time": "2020-11-20T11:27:47.363000Z"
    }
   },
   "outputs": [],
   "source": [
    "def truncation(f_vector, k=4, to_choose=2, maximise=True):\n",
    "    if maximise:\n",
    "        candidate_inds = np.argsort(-f_vector)[:k]\n",
    "    else:\n",
    "        candidate_inds = np.argsort(f_vector)[:k]\n",
    "    try:\n",
    "        picked_inds = np.random.choice(candidate_inds, \n",
    "                                   size=to_choose, \n",
    "                                   replace=False)\n",
    "    except:\n",
    "        picked_inds = np.random.choice(candidate_inds, \n",
    "                                   size=to_choose, \n",
    "                                   replace=False)\n",
    "    return picked_inds"
   ]
  },
  {
   "cell_type": "code",
   "execution_count": 9,
   "metadata": {
    "ExecuteTime": {
     "end_time": "2020-11-20T11:27:47.400240Z",
     "start_time": "2020-11-20T11:27:47.371807Z"
    }
   },
   "outputs": [
    {
     "data": {
      "text/plain": [
       "array([1, 3])"
      ]
     },
     "execution_count": 9,
     "metadata": {},
     "output_type": "execute_result"
    }
   ],
   "source": [
    "# test\n",
    "fv = np.array([1,2, 4,6,-23])\n",
    "truncation(fv)"
   ]
  },
  {
   "cell_type": "markdown",
   "metadata": {},
   "source": [
    "## Task 3.4"
   ]
  },
  {
   "cell_type": "code",
   "execution_count": 10,
   "metadata": {
    "ExecuteTime": {
     "end_time": "2020-11-20T11:27:47.414029Z",
     "start_time": "2020-11-20T11:27:47.402775Z"
    }
   },
   "outputs": [],
   "source": [
    "def one_point_cx(a, b):\n",
    "    inds = np.arange(a.shape[0])\n",
    "    point = np.random.choice(inds)\n",
    "    #print(point)\n",
    "    c = np.concatenate([a[:point], b[point:]])\n",
    "    d = np.concatenate([b[:point], a[point:]])\n",
    "    return c, d"
   ]
  },
  {
   "cell_type": "code",
   "execution_count": 11,
   "metadata": {
    "ExecuteTime": {
     "end_time": "2020-11-20T11:27:47.436874Z",
     "start_time": "2020-11-20T11:27:47.416533Z"
    }
   },
   "outputs": [
    {
     "name": "stdout",
     "output_type": "stream",
     "text": [
      "[0 0 1] [0 1 1]\n"
     ]
    }
   ],
   "source": [
    "c1, c2 = one_point_cx(P[0], P[1])\n",
    "print(c1, c2)"
   ]
  },
  {
   "cell_type": "markdown",
   "metadata": {},
   "source": [
    "## Task 3.5"
   ]
  },
  {
   "cell_type": "code",
   "execution_count": 12,
   "metadata": {
    "ExecuteTime": {
     "end_time": "2020-11-20T11:27:47.449730Z",
     "start_time": "2020-11-20T11:27:47.439360Z"
    }
   },
   "outputs": [],
   "source": [
    "def bitwise_mutation(c, prob=None):\n",
    "    if prob is None:\n",
    "        prob = 1/len(c)\n",
    "    bits = []\n",
    "    for i in range(c.shape[0]):\n",
    "        r = np.random.random()\n",
    "        if r < prob:\n",
    "            bits.append(int(not(c[i])))\n",
    "        else:\n",
    "            bits.append(c[i])\n",
    "    return np.array(bits)"
   ]
  },
  {
   "cell_type": "code",
   "execution_count": 13,
   "metadata": {
    "ExecuteTime": {
     "end_time": "2020-11-20T11:27:47.476557Z",
     "start_time": "2020-11-20T11:27:47.451262Z"
    }
   },
   "outputs": [
    {
     "name": "stdout",
     "output_type": "stream",
     "text": [
      "[0 1 1]\n"
     ]
    }
   ],
   "source": [
    "# test\n",
    "c1p = bitwise_mutation(c1)\n",
    "print(c1p)"
   ]
  },
  {
   "cell_type": "markdown",
   "metadata": {},
   "source": [
    "## Task 3.6"
   ]
  },
  {
   "cell_type": "code",
   "execution_count": 14,
   "metadata": {
    "ExecuteTime": {
     "end_time": "2020-11-20T11:27:47.496374Z",
     "start_time": "2020-11-20T11:27:47.479363Z"
    }
   },
   "outputs": [],
   "source": [
    "def GA(func, K, mut_rate=0.2, cx_rate=0.8, n_rows=10, n_cols=8,\n",
    "      args=(), maximise=True):\n",
    "    P = gen_pop(n_rows, n_cols)\n",
    "    f_vector = np.array([func(i, *args) for i in P])\n",
    "    if maximise:\n",
    "        sorted_inds = np.argsort(-f_vector)\n",
    "    else:\n",
    "        sorted_inds = np.argsort(f_vector)\n",
    "    xbest = [P[sorted_inds[0]]]\n",
    "    fbest = [f_vector[sorted_inds[0]]]\n",
    "    for i in range(K+1):\n",
    "        pinds = truncation(f_vector, maximise=maximise)\n",
    "        a, b = P[pinds][0], P[pinds][1]\n",
    "        pcx = np.random.random()\n",
    "        if pcx < cx_rate:\n",
    "            c1, c2 = one_point_cx(a, b)\n",
    "        else:\n",
    "            c1, c2 = np.array(a), np.array(b)\n",
    "        pm = np.random.random()\n",
    "        if pcx < mut_rate:\n",
    "            c1p = bitwise_mutation(c1)\n",
    "            c2p = bitwise_mutation(c2)\n",
    "        else:\n",
    "            c1p, c2p = np.array(c1), np.array(c2)\n",
    "        Pnew = np.concatenate([P, c1p[np.newaxis,:], \n",
    "                               c2p[np.newaxis,:]])\n",
    "        f_vector = np.array([func(i, *args) for i in Pnew])\n",
    "        if maximise:\n",
    "            sorted_inds = np.argsort(-f_vector)\n",
    "        else:\n",
    "            sorted_inds = np.argsort(f_vector)\n",
    "        P = Pnew[sorted_inds][:n_rows]\n",
    "        f_vector = f_vector[sorted_inds][:n_rows]\n",
    "        xbest.append(P[0])\n",
    "        fbest.append(f_vector[0])\n",
    "    return P, f_vector, xbest, fbest"
   ]
  },
  {
   "cell_type": "code",
   "execution_count": 15,
   "metadata": {
    "ExecuteTime": {
     "end_time": "2020-11-20T11:27:47.517088Z",
     "start_time": "2020-11-20T11:27:47.499607Z"
    }
   },
   "outputs": [],
   "source": [
    "# hyperparamters\n",
    "K = 1000\n",
    "# function paramters\n",
    "w = np.array([600, 180, 250, 500, 400, 250, 380, 400])\n",
    "v = np.array([1.35, 2.25, 2.5, 2.5, 1.75, 2.5, 2, 3.5])\n",
    "W = 1200\n",
    "r = 2\n",
    "beta = 1\n",
    "args = (w, v, W, r, beta)"
   ]
  },
  {
   "cell_type": "code",
   "execution_count": 16,
   "metadata": {
    "ExecuteTime": {
     "end_time": "2020-11-20T11:27:47.898661Z",
     "start_time": "2020-11-20T11:27:47.518932Z"
    }
   },
   "outputs": [],
   "source": [
    "res = GA(knapsack, K, args=args)"
   ]
  },
  {
   "cell_type": "markdown",
   "metadata": {},
   "source": [
    "## Task 3.7"
   ]
  },
  {
   "cell_type": "code",
   "execution_count": 17,
   "metadata": {
    "ExecuteTime": {
     "end_time": "2020-11-20T11:27:48.363056Z",
     "start_time": "2020-11-20T11:27:47.900751Z"
    }
   },
   "outputs": [
    {
     "data": {
      "text/plain": [
       "Text(0, 0.5, 'Best Fitness Value')"
      ]
     },
     "execution_count": 17,
     "metadata": {},
     "output_type": "execute_result"
    },
    {
     "data": {
      "image/png": "[encoded data removed]",
      "text/plain": [
       "<Figure size 432x288 with 1 Axes>"
      ]
     },
     "metadata": {
      "needs_background": "light"
     },
     "output_type": "display_data"
    }
   ],
   "source": [
    "plt.plot(res[-1])\n",
    "plt.xlabel(\"Number of Generations\")\n",
    "plt.ylabel(\"Best Fitness Value\")"
   ]
  },
  {
   "cell_type": "markdown",
   "metadata": {},
   "source": [
    "## Task 3.8"
   ]
  },
  {
   "cell_type": "code",
   "execution_count": 18,
   "metadata": {
    "ExecuteTime": {
     "end_time": "2020-11-20T11:35:14.619902Z",
     "start_time": "2020-11-20T11:35:14.615005Z"
    }
   },
   "outputs": [
    {
     "data": {
      "text/plain": [
       "(array([0, 1, 1, 0, 0, 1, 0, 1]), 10.75)"
      ]
     },
     "execution_count": 18,
     "metadata": {},
     "output_type": "execute_result"
    }
   ],
   "source": [
    "res[0][np.argmax(res[1])],np.max(res[1])"
   ]
  },
  {
   "cell_type": "markdown",
   "metadata": {},
   "source": [
    "This means we will buy Raspberries, Blueberries, Mango and Strawberries. "
   ]
  }
 ],
 "metadata": {
  "kernelspec": {
   "display_name": "Python 3",
   "language": "python",
   "name": "python3"
  },
  "language_info": {
   "codemirror_mode": {
    "name": "ipython",
    "version": 3
   },
   "file_extension": ".py",
   "mimetype": "text/x-python",
   "name": "python",
   "nbconvert_exporter": "python",
   "pygments_lexer": "ipython3",
   "version": "3.8.5"
  }
 },
 "nbformat": 4,
 "nbformat_minor": 2
}
